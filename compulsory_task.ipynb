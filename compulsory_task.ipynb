{
 "cells": [
  {
   "cell_type": "markdown",
   "id": "bbaed2a3",
   "metadata": {},
   "source": [
    "### Compulsory Task 1\n",
    "* Use the data in the relevant columns to determine how age affects insurance costs:\n",
    "    1. Plot a scatter plot with age on the x-axis and charges on the y-axis.\n",
    "    2. Using linear_model.LinearRegression() from sklearn, fit a model to your data, and make predictions on data.\n",
    "    3. Plot another scatter plot with the best-fit line."
   ]
  },
  {
   "cell_type": "markdown",
   "id": "46352e15",
   "metadata": {},
   "source": [
    "*To start, we will import packages that will help us manipulate data and leverage the easy-to-use machine learning tools from the scikit-learn library*"
   ]
  },
  {
   "cell_type": "code",
   "execution_count": 2,
   "id": "ffbe0a29",
   "metadata": {},
   "outputs": [],
   "source": [
    "import pandas as pd\n",
    "import numpy as np\n",
    "import seaborn as sns\n",
    "import matplotlib.pyplot as plt\n",
    "from sklearn.linear_model import LinearRegression\n",
    "from sklearn.model_selection import cross_val_score\n",
    "from sklearn.metrics import mean_absolute_error, mean_squared_error, r2_score\n",
    "%matplotlib inline"
   ]
  },
  {
   "cell_type": "markdown",
   "id": "b1d4d195",
   "metadata": {},
   "source": [
    "#### 1. Our first task is to plot a scatter plot with age on the x-axis and charges on the y-axis.\n",
    "\n",
    "*Next, let's read our data*"
   ]
  },
  {
   "cell_type": "code",
   "execution_count": 3,
   "id": "fbe091de",
   "metadata": {},
   "outputs": [
    {
     "data": {
      "text/html": [
       "<div>\n",
       "<style scoped>\n",
       "    .dataframe tbody tr th:only-of-type {\n",
       "        vertical-align: middle;\n",
       "    }\n",
       "\n",
       "    .dataframe tbody tr th {\n",
       "        vertical-align: top;\n",
       "    }\n",
       "\n",
       "    .dataframe thead th {\n",
       "        text-align: right;\n",
       "    }\n",
       "</style>\n",
       "<table border=\"1\" class=\"dataframe\">\n",
       "  <thead>\n",
       "    <tr style=\"text-align: right;\">\n",
       "      <th></th>\n",
       "      <th>age</th>\n",
       "      <th>sex</th>\n",
       "      <th>bmi</th>\n",
       "      <th>children</th>\n",
       "      <th>smoker</th>\n",
       "      <th>region</th>\n",
       "      <th>charges</th>\n",
       "    </tr>\n",
       "  </thead>\n",
       "  <tbody>\n",
       "    <tr>\n",
       "      <th>0</th>\n",
       "      <td>19</td>\n",
       "      <td>female</td>\n",
       "      <td>27.900</td>\n",
       "      <td>0</td>\n",
       "      <td>yes</td>\n",
       "      <td>southwest</td>\n",
       "      <td>16884.92400</td>\n",
       "    </tr>\n",
       "    <tr>\n",
       "      <th>1</th>\n",
       "      <td>18</td>\n",
       "      <td>male</td>\n",
       "      <td>33.770</td>\n",
       "      <td>1</td>\n",
       "      <td>no</td>\n",
       "      <td>southeast</td>\n",
       "      <td>1725.55230</td>\n",
       "    </tr>\n",
       "    <tr>\n",
       "      <th>2</th>\n",
       "      <td>28</td>\n",
       "      <td>male</td>\n",
       "      <td>33.000</td>\n",
       "      <td>3</td>\n",
       "      <td>no</td>\n",
       "      <td>southeast</td>\n",
       "      <td>4449.46200</td>\n",
       "    </tr>\n",
       "    <tr>\n",
       "      <th>3</th>\n",
       "      <td>33</td>\n",
       "      <td>male</td>\n",
       "      <td>22.705</td>\n",
       "      <td>0</td>\n",
       "      <td>no</td>\n",
       "      <td>northwest</td>\n",
       "      <td>21984.47061</td>\n",
       "    </tr>\n",
       "    <tr>\n",
       "      <th>4</th>\n",
       "      <td>32</td>\n",
       "      <td>male</td>\n",
       "      <td>28.880</td>\n",
       "      <td>0</td>\n",
       "      <td>no</td>\n",
       "      <td>northwest</td>\n",
       "      <td>3866.85520</td>\n",
       "    </tr>\n",
       "  </tbody>\n",
       "</table>\n",
       "</div>"
      ],
      "text/plain": [
       "   age     sex     bmi  children smoker     region      charges\n",
       "0   19  female  27.900         0    yes  southwest  16884.92400\n",
       "1   18    male  33.770         1     no  southeast   1725.55230\n",
       "2   28    male  33.000         3     no  southeast   4449.46200\n",
       "3   33    male  22.705         0     no  northwest  21984.47061\n",
       "4   32    male  28.880         0     no  northwest   3866.85520"
      ]
     },
     "execution_count": 3,
     "metadata": {},
     "output_type": "execute_result"
    }
   ],
   "source": [
    "df = pd.read_csv('insurance.csv')\n",
    "df.head()"
   ]
  },
  {
   "cell_type": "markdown",
   "id": "1696e4ed",
   "metadata": {},
   "source": [
    "Let's remove any repeated values (our data has got now 1 less row)"
   ]
  },
  {
   "cell_type": "code",
   "execution_count": 4,
   "id": "47ecc98d",
   "metadata": {},
   "outputs": [
    {
     "name": "stdout",
     "output_type": "stream",
     "text": [
      "<class 'pandas.core.frame.DataFrame'>\n",
      "Int64Index: 1337 entries, 0 to 1337\n",
      "Data columns (total 7 columns):\n",
      " #   Column    Non-Null Count  Dtype  \n",
      "---  ------    --------------  -----  \n",
      " 0   age       1337 non-null   int64  \n",
      " 1   sex       1337 non-null   object \n",
      " 2   bmi       1337 non-null   float64\n",
      " 3   children  1337 non-null   int64  \n",
      " 4   smoker    1337 non-null   object \n",
      " 5   region    1337 non-null   object \n",
      " 6   charges   1337 non-null   float64\n",
      "dtypes: float64(2), int64(2), object(3)\n",
      "memory usage: 83.6+ KB\n"
     ]
    }
   ],
   "source": [
    "df = df.drop_duplicates()\n",
    "df.info()"
   ]
  },
  {
   "cell_type": "markdown",
   "id": "e9dd31a2",
   "metadata": {},
   "source": [
    "*Transform our dataframe with only the used columns.*"
   ]
  },
  {
   "cell_type": "code",
   "execution_count": 5,
   "id": "575cf520",
   "metadata": {},
   "outputs": [
    {
     "data": {
      "text/html": [
       "<div>\n",
       "<style scoped>\n",
       "    .dataframe tbody tr th:only-of-type {\n",
       "        vertical-align: middle;\n",
       "    }\n",
       "\n",
       "    .dataframe tbody tr th {\n",
       "        vertical-align: top;\n",
       "    }\n",
       "\n",
       "    .dataframe thead th {\n",
       "        text-align: right;\n",
       "    }\n",
       "</style>\n",
       "<table border=\"1\" class=\"dataframe\">\n",
       "  <thead>\n",
       "    <tr style=\"text-align: right;\">\n",
       "      <th></th>\n",
       "      <th>age</th>\n",
       "      <th>charges</th>\n",
       "    </tr>\n",
       "  </thead>\n",
       "  <tbody>\n",
       "    <tr>\n",
       "      <th>1333</th>\n",
       "      <td>50</td>\n",
       "      <td>10600.5483</td>\n",
       "    </tr>\n",
       "    <tr>\n",
       "      <th>1334</th>\n",
       "      <td>18</td>\n",
       "      <td>2205.9808</td>\n",
       "    </tr>\n",
       "    <tr>\n",
       "      <th>1335</th>\n",
       "      <td>18</td>\n",
       "      <td>1629.8335</td>\n",
       "    </tr>\n",
       "    <tr>\n",
       "      <th>1336</th>\n",
       "      <td>21</td>\n",
       "      <td>2007.9450</td>\n",
       "    </tr>\n",
       "    <tr>\n",
       "      <th>1337</th>\n",
       "      <td>61</td>\n",
       "      <td>29141.3603</td>\n",
       "    </tr>\n",
       "  </tbody>\n",
       "</table>\n",
       "</div>"
      ],
      "text/plain": [
       "      age     charges\n",
       "1333   50  10600.5483\n",
       "1334   18   2205.9808\n",
       "1335   18   1629.8335\n",
       "1336   21   2007.9450\n",
       "1337   61  29141.3603"
      ]
     },
     "execution_count": 5,
     "metadata": {},
     "output_type": "execute_result"
    }
   ],
   "source": [
    "df = df[['age', 'charges']]\n",
    "df.tail()"
   ]
  },
  {
   "cell_type": "markdown",
   "id": "acac7531",
   "metadata": {},
   "source": [
    "*Let's check for any empty rows  (luckily our data is clean)*"
   ]
  },
  {
   "cell_type": "code",
   "execution_count": 6,
   "id": "bc7e7ee4",
   "metadata": {},
   "outputs": [
    {
     "data": {
      "text/plain": [
       "age        0\n",
       "charges    0\n",
       "dtype: int64"
      ]
     },
     "execution_count": 6,
     "metadata": {},
     "output_type": "execute_result"
    }
   ],
   "source": [
    "df.isnull().sum()"
   ]
  },
  {
   "cell_type": "markdown",
   "id": "716fd6cf",
   "metadata": {},
   "source": [
    "*Now we create a scatter plot with our age and insurance charges columns.*"
   ]
  },
  {
   "cell_type": "code",
   "execution_count": 7,
   "id": "28c34b9a",
   "metadata": {},
   "outputs": [
    {
     "data": {
      "image/png": "[encoded data removed]",
      "text/plain": [
       "<Figure size 432x288 with 1 Axes>"
      ]
     },
     "metadata": {
      "needs_background": "light"
     },
     "output_type": "display_data"
    }
   ],
   "source": [
    "plt.figure()\n",
    "sns.scatterplot(data=df, x = 'age', y = 'charges')\n",
    "plt.title('Relationship between Age and Insurance Charges')\n",
    "plt.show()\n",
    "plt.close()"
   ]
  },
  {
   "cell_type": "markdown",
   "id": "ba6a751a",
   "metadata": {},
   "source": [
    "<div class=\"alert alert-block alert-info\">\n",
    "<b>Tip:</b> From our scatter plot, we can easily see that if you start getting older, the insurance price is getting higher.\n",
    "</div>"
   ]
  },
  {
   "cell_type": "markdown",
   "id": "0cb38baa",
   "metadata": {},
   "source": [
    " "
   ]
  },
  {
   "cell_type": "markdown",
   "id": "de75bce2",
   "metadata": {},
   "source": [
    "#### 2. Our second taks is to use linear_model.LinearRegression() from sklearn, fit a model to our data, and make predictions on data."
   ]
  },
  {
   "cell_type": "markdown",
   "id": "c68b3670",
   "metadata": {},
   "source": [
    " "
   ]
  },
  {
   "cell_type": "markdown",
   "id": "b2748e81",
   "metadata": {},
   "source": [
    "<div class=\"alert alert-block alert-info\">\n",
    "<b>Tip:</b> As our task is asking to use only the age and charges column, we can implement the Simple Linear Regression Model.\n",
    "</div>\n"
   ]
  },
  {
   "cell_type": "markdown",
   "id": "69153e5c",
   "metadata": {},
   "source": [
    "*We first prepare our data for the linear regression model by assigning the age column to our independent variable 'X' and assigning the charges column to our dependent variable 'y'.*"
   ]
  },
  {
   "cell_type": "markdown",
   "id": "28c54fc7",
   "metadata": {},
   "source": [
    "*We reshape our independent variable X from 1D array to 2D array, with unknown numbers of rows (-1,..) and 1 column (..,1)*"
   ]
  },
  {
   "cell_type": "code",
   "execution_count": 8,
   "id": "00f2bf44",
   "metadata": {},
   "outputs": [],
   "source": [
    "X = df.age.values.reshape(-1, 1)\n",
    "y = df.charges.values"
   ]
  },
  {
   "cell_type": "code",
   "execution_count": 9,
   "id": "b8e750cb",
   "metadata": {},
   "outputs": [
    {
     "data": {
      "text/plain": [
       "LinearRegression()"
      ]
     },
     "execution_count": 9,
     "metadata": {},
     "output_type": "execute_result"
    }
   ],
   "source": [
    "regression = LinearRegression()\n",
    "regression.fit(X, y)"
   ]
  },
  {
   "cell_type": "markdown",
   "id": "3faa6348",
   "metadata": {},
   "source": [
    "*Let's see how our prediction is calculated by getting the Coefficient and Intercept*"
   ]
  },
  {
   "cell_type": "code",
   "execution_count": 10,
   "id": "4b09e506",
   "metadata": {},
   "outputs": [
    {
     "data": {
      "text/plain": [
       "array([257.22971752])"
      ]
     },
     "execution_count": 10,
     "metadata": {},
     "output_type": "execute_result"
    }
   ],
   "source": [
    "regression.coef_"
   ]
  },
  {
   "cell_type": "code",
   "execution_count": 11,
   "id": "6a415c86",
   "metadata": {},
   "outputs": [
    {
     "data": {
      "text/plain": [
       "3190.0217210318224"
      ]
     },
     "execution_count": 11,
     "metadata": {},
     "output_type": "execute_result"
    }
   ],
   "source": [
    "regression.intercept_"
   ]
  },
  {
   "cell_type": "markdown",
   "id": "ece4a500",
   "metadata": {},
   "source": [
    "> for every unit increase in the independent variable (age), the dependent variable is expected to increase by approximately 257.72 units.\n",
    "\n",
    "> In case of our intercept, when the age is zero, the predicted value of charges would be approximately 3165.89.\n",
    "\n",
    "<div class=\"alert alert-block alert-info\">\n",
    "<b>Tip:</b> Getting the coefficients and intercept it's helping us to calculate the prediction using this formula:\n",
    "(regression.coef_ * age) + regression.intercept_\n",
    "</div>\n"
   ]
  },
  {
   "cell_type": "markdown",
   "id": "dcefeb1a",
   "metadata": {},
   "source": [
    " "
   ]
  },
  {
   "cell_type": "markdown",
   "id": "c046a47c",
   "metadata": {},
   "source": [
    "<div class=\"alert alert-block alert-success\">\n",
    "<b>Predictions to data:</b> Let's predict charges value for age 80 (we can simply do this without using the formula with the help of Python).\n",
    "</div>\n"
   ]
  },
  {
   "cell_type": "code",
   "execution_count": 12,
   "id": "6995bf49",
   "metadata": {},
   "outputs": [
    {
     "name": "stdout",
     "output_type": "stream",
     "text": [
      "Insurance charges could be: [23768.39912247]\n"
     ]
    }
   ],
   "source": [
    "age_prediction = regression.predict(np.array([[80]]))\n",
    "print(f\"Insurance charges could be: {age_prediction}\")"
   ]
  },
  {
   "cell_type": "markdown",
   "id": "b0db0666",
   "metadata": {},
   "source": [
    "*Now we visualise the prediction with a best-fit line*"
   ]
  },
  {
   "cell_type": "code",
   "execution_count": 16,
   "id": "073c8b5e",
   "metadata": {},
   "outputs": [
    {
     "data": {
      "image/png": "[encoded data removed]",
      "text/plain": [
       "<Figure size 432x288 with 1 Axes>"
      ]
     },
     "metadata": {
      "needs_background": "light"
     },
     "output_type": "display_data"
    }
   ],
   "source": [
    "unknown_x = [[80]] \n",
    "\n",
    "x_pred = np.append(X, unknown_x).reshape(-1,1)\n",
    "y_pred = regression.predict(x_pred)\n",
    "\n",
    "plt.scatter(X, y, color = 'b')\n",
    "plt.plot(x_pred, y_pred, color = 'r')\n",
    "plt.title('Prediction Graph')\n",
    "plt.xlabel('Age')\n",
    "plt.ylabel('Charges')\n",
    "plt.show()"
   ]
  },
  {
   "cell_type": "markdown",
   "id": "dabb0cd6",
   "metadata": {},
   "source": [
    "#### 3. Our last taks is to plot another scatter plot with the best-fit line."
   ]
  },
  {
   "cell_type": "markdown",
   "id": "3d642a90",
   "metadata": {},
   "source": [
    "*Fitting our regression model*"
   ]
  },
  {
   "cell_type": "code",
   "execution_count": 15,
   "id": "a1446aca",
   "metadata": {},
   "outputs": [
    {
     "data": {
      "image/png": "[encoded data removed]",
      "text/plain": [
       "<Figure size 432x288 with 1 Axes>"
      ]
     },
     "metadata": {
      "needs_background": "light"
     },
     "output_type": "display_data"
    }
   ],
   "source": [
    "y_pred = regression.predict(X)\n",
    "plt.figure()\n",
    "sns.scatterplot(data=df, x='age', y='charges')\n",
    "plt.title('Actual vs Predicted Values')\n",
    "plt.plot(X, y_pred, color = 'r')\n",
    "plt.show()"
   ]
  },
  {
   "cell_type": "markdown",
   "id": "14f775e5",
   "metadata": {},
   "source": [
    "<div class=\"alert alert-block alert-info\">\n",
    "<b>Tip:</b> Although our best-fit line is closer to a few points and not ignoring the majority of points from our graph, we got a weak correlation.\n",
    "</div>"
   ]
  },
  {
   "cell_type": "markdown",
   "id": "636f7393",
   "metadata": {},
   "source": [
    "### Some extras to see how our model is performing"
   ]
  },
  {
   "cell_type": "markdown",
   "id": "372c0bca",
   "metadata": {},
   "source": [
    "> cross-validation to evaluate the model"
   ]
  },
  {
   "cell_type": "code",
   "execution_count": 14,
   "id": "50807277",
   "metadata": {},
   "outputs": [
    {
     "name": "stdout",
     "output_type": "stream",
     "text": [
      "Cross-validation scores: [0.10358247 0.11686431 0.06866468 0.10313665 0.04687776]\n"
     ]
    }
   ],
   "source": [
    "scores = cross_val_score(regression, X, y, cv=5)\n",
    "print(f\"Cross-validation scores: {scores}\")"
   ]
  },
  {
   "cell_type": "code",
   "execution_count": 15,
   "id": "978c59ca",
   "metadata": {},
   "outputs": [],
   "source": [
    "mean_score = np.mean(scores)  \n",
    "std_score = np.std(scores) "
   ]
  },
  {
   "cell_type": "code",
   "execution_count": 16,
   "id": "880b8178",
   "metadata": {},
   "outputs": [
    {
     "name": "stdout",
     "output_type": "stream",
     "text": [
      "Mean cross-validation score: 0.09\n",
      "Standard deviation of cross-validation scores: 0.03\n"
     ]
    }
   ],
   "source": [
    "print(f\"Mean cross-validation score: {mean_score:.2f}\")\n",
    "print(f\"Standard deviation of cross-validation scores: {std_score:.2f}\")"
   ]
  },
  {
   "cell_type": "markdown",
   "id": "d757454e",
   "metadata": {},
   "source": [
    "<div class=\"alert alert-block alert-info\">\n",
    "<b>Tip:</b> As we got positive scores [0.10358247 0.11686431 0.06866468 0.10313665 0.04687776] indicate that the model's predictions are performing better than the baseline model. The model's performance, as measured by the cross-validation scores, is not really good, with a low average accuracy of 9% (100% the best) and a small standard deviation of 3%, indicating that the individual scores are closer to the mean, suggesting more consistent performance across the folds.\n",
    "</div>\n"
   ]
  },
  {
   "cell_type": "markdown",
   "id": "639f293e",
   "metadata": {},
   "source": [
    "> evaluate the model accuracy using MAE = Mean Absolute Error, MSE = Mean Squared Error, R2-score = Accuracy Metric"
   ]
  },
  {
   "cell_type": "markdown",
   "id": "e5d5aeae",
   "metadata": {},
   "source": [
    "*Let's first remember our dependent and independent variables*"
   ]
  },
  {
   "cell_type": "code",
   "execution_count": 17,
   "id": "5a2ce123",
   "metadata": {},
   "outputs": [],
   "source": [
    "X = df.iloc[:,:1].values.reshape(-1, 1)\n",
    "y = df.loc[:,'charges'].values\n",
    "y_pred = regression.predict(X)"
   ]
  },
  {
   "cell_type": "markdown",
   "id": "b66d7c8f",
   "metadata": {},
   "source": [
    "*Calculate Mean Absolute Error (MAE), Mean Squared Error (MSE) and R2-score*"
   ]
  },
  {
   "cell_type": "code",
   "execution_count": 18,
   "id": "ee79f7aa",
   "metadata": {},
   "outputs": [],
   "source": [
    "mae = mean_absolute_error(y, y_pred)\n",
    "mse = mean_squared_error(y, y_pred)\n",
    "r2 = r2_score(y, y_pred)"
   ]
  },
  {
   "cell_type": "code",
   "execution_count": 19,
   "id": "91bf4027",
   "metadata": {},
   "outputs": [
    {
     "name": "stdout",
     "output_type": "stream",
     "text": [
      "Mean absolute error score: 9059.15\n",
      "Mean squared error score: 133509857.08\n",
      "R2-score: 0.09\n"
     ]
    }
   ],
   "source": [
    "print(f\"Mean absolute error score: {mae:.2f}\")\n",
    "print(f\"Mean squared error score: {mse:.2f}\")\n",
    "print(f\"R2-score: {r2:.2f}\")"
   ]
  },
  {
   "cell_type": "markdown",
   "id": "8efadfac",
   "metadata": {},
   "source": [
    "<div class=\"alert alert-block alert-info\">\n",
    "<b>Tip:</b> The simple linear regression model does not appear to have a strong predictive power for estimating insurance charges based on age alone. The relatively high MAE and MSE (the smaller the better to predict) suggest that the model's predictions deviate significantly from the actual charges, and the low R2-score (we got 0.9, 1 is the best) indicates that age alone does not explain much of the variation in insurance charges.\n",
    "</div>\n"
   ]
  },
  {
   "cell_type": "code",
   "execution_count": null,
   "id": "a500f13d",
   "metadata": {},
   "outputs": [],
   "source": []
  }
 ],
 "metadata": {
  "kernelspec": {
   "display_name": "Python 3 (ipykernel)",
   "language": "python",
   "name": "python3"
  },
  "language_info": {
   "codemirror_mode": {
    "name": "ipython",
    "version": 3
   },
   "file_extension": ".py",
   "mimetype": "text/x-python",
   "name": "python",
   "nbconvert_exporter": "python",
   "pygments_lexer": "ipython3",
   "version": "3.9.12"
  }
 },
 "nbformat": 4,
 "nbformat_minor": 5
}
